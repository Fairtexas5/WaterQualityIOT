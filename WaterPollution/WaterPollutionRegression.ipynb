{
 "cells": [
  {
   "cell_type": "code",
   "execution_count": 262,
   "id": "initial_id",
   "metadata": {
    "collapsed": true,
    "ExecuteTime": {
     "end_time": "2023-11-27T18:08:30.420446Z",
     "start_time": "2023-11-27T18:08:30.371814Z"
    }
   },
   "outputs": [],
   "source": [
    "import pandas as pd\n",
    "import numpy as np\n",
    "import matplotlib.pyplot as plt\n",
    "from sklearn import neighbors,datasets\n",
    "from sklearn import linear_model\n",
    "from sklearn.model_selection import train_test_split\n",
    "from sklearn.metrics import mean_squared_error\n",
    "from sklearn.metrics import mean_squared_error\n",
    "from sklearn import metrics\n",
    "file_path = \"/Users/aditsg/DataspellProjects/WaterPollution/Water_data_india.csv\"\n",
    "df=pd.read_csv(file_path,encoding=\"ISO-8859-1\")"
   ]
  },
  {
   "cell_type": "code",
   "execution_count": 263,
   "outputs": [
    {
     "data": {
      "text/plain": "  STATION CODE                                          LOCATIONS  \\\n0         1393               DAMANGANGA AT D/S OF MADHUBAN, DAMAN   \n1         1399  ZUARI AT D/S OF PT. WHERE KUMBARJRIA CANAL JOI...   \n2         1475                                ZUARI AT PANCHAWADI   \n3         3181                        RIVER ZUARI AT BORIM BRIDGE   \n4         3182                       RIVER ZUARI AT MARCAIM JETTY   \n\n         STATE  Temp D.O. (mg/l)   PH CONDUCTIVITY (µmhos/cm) B.O.D. (mg/l)  \\\n0  DAMAN & DIU  30.6         6.7  7.5                     203           NAN   \n1          GOA  29.8         5.7  7.2                     189             2   \n2          GOA  29.5         6.3  6.9                     179           1.7   \n3          GOA  29.7         5.8  6.9                      64           3.8   \n4          GOA  29.5         5.8  7.3                      83           1.9   \n\n  Nitrate TOTAL COLIFORM (MPN/100ml)Mean  year  \n0     0.1                             27  2014  \n1     0.2                           8391  2014  \n2     0.1                           5330  2014  \n3     0.5                           8443  2014  \n4     0.4                           5500  2014  ",
      "text/html": "<div>\n<style scoped>\n    .dataframe tbody tr th:only-of-type {\n        vertical-align: middle;\n    }\n\n    .dataframe tbody tr th {\n        vertical-align: top;\n    }\n\n    .dataframe thead th {\n        text-align: right;\n    }\n</style>\n<table border=\"1\" class=\"dataframe\">\n  <thead>\n    <tr style=\"text-align: right;\">\n      <th></th>\n      <th>STATION CODE</th>\n      <th>LOCATIONS</th>\n      <th>STATE</th>\n      <th>Temp</th>\n      <th>D.O. (mg/l)</th>\n      <th>PH</th>\n      <th>CONDUCTIVITY (µmhos/cm)</th>\n      <th>B.O.D. (mg/l)</th>\n      <th>Nitrate</th>\n      <th>TOTAL COLIFORM (MPN/100ml)Mean</th>\n      <th>year</th>\n    </tr>\n  </thead>\n  <tbody>\n    <tr>\n      <th>0</th>\n      <td>1393</td>\n      <td>DAMANGANGA AT D/S OF MADHUBAN, DAMAN</td>\n      <td>DAMAN &amp; DIU</td>\n      <td>30.6</td>\n      <td>6.7</td>\n      <td>7.5</td>\n      <td>203</td>\n      <td>NAN</td>\n      <td>0.1</td>\n      <td>27</td>\n      <td>2014</td>\n    </tr>\n    <tr>\n      <th>1</th>\n      <td>1399</td>\n      <td>ZUARI AT D/S OF PT. WHERE KUMBARJRIA CANAL JOI...</td>\n      <td>GOA</td>\n      <td>29.8</td>\n      <td>5.7</td>\n      <td>7.2</td>\n      <td>189</td>\n      <td>2</td>\n      <td>0.2</td>\n      <td>8391</td>\n      <td>2014</td>\n    </tr>\n    <tr>\n      <th>2</th>\n      <td>1475</td>\n      <td>ZUARI AT PANCHAWADI</td>\n      <td>GOA</td>\n      <td>29.5</td>\n      <td>6.3</td>\n      <td>6.9</td>\n      <td>179</td>\n      <td>1.7</td>\n      <td>0.1</td>\n      <td>5330</td>\n      <td>2014</td>\n    </tr>\n    <tr>\n      <th>3</th>\n      <td>3181</td>\n      <td>RIVER ZUARI AT BORIM BRIDGE</td>\n      <td>GOA</td>\n      <td>29.7</td>\n      <td>5.8</td>\n      <td>6.9</td>\n      <td>64</td>\n      <td>3.8</td>\n      <td>0.5</td>\n      <td>8443</td>\n      <td>2014</td>\n    </tr>\n    <tr>\n      <th>4</th>\n      <td>3182</td>\n      <td>RIVER ZUARI AT MARCAIM JETTY</td>\n      <td>GOA</td>\n      <td>29.5</td>\n      <td>5.8</td>\n      <td>7.3</td>\n      <td>83</td>\n      <td>1.9</td>\n      <td>0.4</td>\n      <td>5500</td>\n      <td>2014</td>\n    </tr>\n  </tbody>\n</table>\n</div>"
     },
     "execution_count": 263,
     "metadata": {},
     "output_type": "execute_result"
    }
   ],
   "source": [
    "df.fillna(0, inplace=True)\n",
    "df.head()"
   ],
   "metadata": {
    "collapsed": false,
    "ExecuteTime": {
     "end_time": "2023-11-27T18:08:30.440744Z",
     "start_time": "2023-11-27T18:08:30.381660Z"
    }
   },
   "id": "14f043b6915ca3ea"
  },
  {
   "cell_type": "code",
   "execution_count": 264,
   "outputs": [
    {
     "data": {
      "text/plain": "STATION CODE                      object\nLOCATIONS                         object\nSTATE                             object\nTemp                              object\nD.O. (mg/l)                       object\nPH                                object\nCONDUCTIVITY (µmhos/cm)           object\nB.O.D. (mg/l)                     object\nNitrate                           object\nTOTAL COLIFORM (MPN/100ml)Mean    object\nyear                               int64\ndtype: object"
     },
     "execution_count": 264,
     "metadata": {},
     "output_type": "execute_result"
    }
   ],
   "source": [
    "df.dtypes"
   ],
   "metadata": {
    "collapsed": false,
    "ExecuteTime": {
     "end_time": "2023-11-27T18:08:30.440969Z",
     "start_time": "2023-11-27T18:08:30.384545Z"
    }
   },
   "id": "453cddef597766e2"
  },
  {
   "cell_type": "code",
   "execution_count": 265,
   "outputs": [
    {
     "name": "stdout",
     "output_type": "stream",
     "text": [
      "STATION CODE                       object\n",
      "LOCATIONS                          object\n",
      "STATE                              object\n",
      "Temp                              float64\n",
      "D.O. (mg/l)                       float64\n",
      "PH                                float64\n",
      "CONDUCTIVITY (µmhos/cm)           float64\n",
      "B.O.D. (mg/l)                     float64\n",
      "Nitrate                           float64\n",
      "TOTAL COLIFORM (MPN/100ml)Mean    float64\n",
      "year                                int64\n",
      "dtype: object\n"
     ]
    }
   ],
   "source": [
    "columns_to_convert = ['Temp', 'D.O. (mg/l)', 'PH', 'CONDUCTIVITY (µmhos/cm)',\n",
    "                      'B.O.D. (mg/l)', 'Nitrate', 'TOTAL COLIFORM (MPN/100ml)Mean']\n",
    "\n",
    "df[columns_to_convert] = df[columns_to_convert].apply(pd.to_numeric, errors='coerce')\n",
    "print(df.dtypes)"
   ],
   "metadata": {
    "collapsed": false,
    "ExecuteTime": {
     "end_time": "2023-11-27T18:08:30.441045Z",
     "start_time": "2023-11-27T18:08:30.393937Z"
    }
   },
   "id": "adc1cd0d9b41377f"
  },
  {
   "cell_type": "code",
   "execution_count": 266,
   "outputs": [
    {
     "name": "stdout",
     "output_type": "stream",
     "text": [
      "  STATION CODE                               LOCATIONS STATE  Temp  \\\n",
      "2         1475                     ZUARI AT PANCHAWADI   GOA  29.5   \n",
      "3         3181             RIVER ZUARI AT BORIM BRIDGE   GOA  29.7   \n",
      "4         3182            RIVER ZUARI AT MARCAIM JETTY   GOA  29.5   \n",
      "5         1400  MANDOVI AT NEGHBOURHOOD OF PANAJI, GOA   GOA  30.0   \n",
      "6         1476          MANDOVI AT TONCA, MARCELA, GOA   GOA  29.2   \n",
      "\n",
      "   D.O. (mg/l)   PH  CONDUCTIVITY (µmhos/cm)  B.O.D. (mg/l)  Nitrate  \\\n",
      "2          6.3  6.9                    179.0            1.7      0.1   \n",
      "3          5.8  6.9                     64.0            3.8      0.5   \n",
      "4          5.8  7.3                     83.0            1.9      0.4   \n",
      "5          5.5  7.4                     81.0            1.5      0.1   \n",
      "6          6.1  6.7                    308.0            1.4      0.3   \n",
      "\n",
      "   TOTAL COLIFORM (MPN/100ml)Mean  year  \n",
      "2                          5330.0  2014  \n",
      "3                          8443.0  2014  \n",
      "4                          5500.0  2014  \n",
      "5                          4049.0  2014  \n",
      "6                          5672.0  2014  \n"
     ]
    }
   ],
   "source": [
    "start = 2\n",
    "end = 1779\n",
    "data = df.iloc[start:end, :]\n",
    "print(data.head())"
   ],
   "metadata": {
    "collapsed": false,
    "ExecuteTime": {
     "end_time": "2023-11-27T18:08:30.441106Z",
     "start_time": "2023-11-27T18:08:30.399367Z"
    }
   },
   "id": "cecea4264b92ace6"
  },
  {
   "cell_type": "code",
   "execution_count": 267,
   "outputs": [],
   "source": [
    "data.columns = ['station', 'location', 'state', 'temp', 'do', 'ph', 'cond', 'bod', 'na', 'tc', 'year']"
   ],
   "metadata": {
    "collapsed": false,
    "ExecuteTime": {
     "end_time": "2023-11-27T18:08:30.441136Z",
     "start_time": "2023-11-27T18:08:30.401546Z"
    }
   },
   "id": "78c363fe9228bc9b"
  },
  {
   "cell_type": "code",
   "execution_count": 268,
   "outputs": [
    {
     "name": "stderr",
     "output_type": "stream",
     "text": [
      "/var/folders/_z/l9p6vnx965x6ccfll2y58x4r0000gn/T/ipykernel_39942/1809720734.py:1: SettingWithCopyWarning: \n",
      "A value is trying to be set on a copy of a slice from a DataFrame.\n",
      "Try using .loc[row_indexer,col_indexer] = value instead\n",
      "\n",
      "See the caveats in the documentation: https://pandas.pydata.org/pandas-docs/stable/user_guide/indexing.html#returning-a-view-versus-a-copy\n",
      "  data['ndo'] = data['do'].apply(lambda x: (100 if (x >= 6)\n"
     ]
    }
   ],
   "source": [
    "data['ndo'] = data['do'].apply(lambda x: (100 if (x >= 6)\n",
    "                                          else(80 if (x >= 5)\n",
    "                                               else(60 if (x >= 4)\n",
    "                                                    else(40 if (x >= 3)\n",
    "                                                         else 0)))))"
   ],
   "metadata": {
    "collapsed": false,
    "ExecuteTime": {
     "end_time": "2023-11-27T18:08:30.441191Z",
     "start_time": "2023-11-27T18:08:30.404913Z"
    }
   },
   "id": "a53c178f079ee5a7"
  },
  {
   "cell_type": "code",
   "execution_count": 269,
   "outputs": [
    {
     "name": "stderr",
     "output_type": "stream",
     "text": [
      "/var/folders/_z/l9p6vnx965x6ccfll2y58x4r0000gn/T/ipykernel_39942/1394836008.py:1: SettingWithCopyWarning: \n",
      "A value is trying to be set on a copy of a slice from a DataFrame.\n",
      "Try using .loc[row_indexer,col_indexer] = value instead\n",
      "\n",
      "See the caveats in the documentation: https://pandas.pydata.org/pandas-docs/stable/user_guide/indexing.html#returning-a-view-versus-a-copy\n",
      "  data['npH']=data.ph.apply(lambda x: (100 if (8.5>=x>=7)\n"
     ]
    }
   ],
   "source": [
    "data['npH']=data.ph.apply(lambda x: (100 if (8.5>=x>=7)\n",
    "                                     else(80 if  (8.6>=x>=8.5) or (6.9>=x>=6.8)\n",
    "                                          else(60 if (8.8>=x>=8.6) or (6.8>=x>=6.7)\n",
    "                                               else(40 if (9>=x>=8.8) or (6.7>=x>=6.5)\n",
    "                                                    else 0)))))"
   ],
   "metadata": {
    "collapsed": false,
    "ExecuteTime": {
     "end_time": "2023-11-27T18:08:30.441379Z",
     "start_time": "2023-11-27T18:08:30.406445Z"
    }
   },
   "id": "f032c77aae74f2ad"
  },
  {
   "cell_type": "code",
   "execution_count": 270,
   "outputs": [
    {
     "name": "stderr",
     "output_type": "stream",
     "text": [
      "/var/folders/_z/l9p6vnx965x6ccfll2y58x4r0000gn/T/ipykernel_39942/3959961076.py:1: SettingWithCopyWarning: \n",
      "A value is trying to be set on a copy of a slice from a DataFrame.\n",
      "Try using .loc[row_indexer,col_indexer] = value instead\n",
      "\n",
      "See the caveats in the documentation: https://pandas.pydata.org/pandas-docs/stable/user_guide/indexing.html#returning-a-view-versus-a-copy\n",
      "  data['ncond'] = data.cond.apply(lambda x: (100 if (x <= 100)\n"
     ]
    }
   ],
   "source": [
    "data['ncond'] = data.cond.apply(lambda x: (100 if (x <= 100)\n",
    "                                                   else(80 if (x <= 200)\n",
    "                                                        else(60 if (x <= 300)\n",
    "                                                             else(40 if (x <= 400)\n",
    "                                                                  else 0)))))"
   ],
   "metadata": {
    "collapsed": false,
    "ExecuteTime": {
     "end_time": "2023-11-27T18:08:30.441436Z",
     "start_time": "2023-11-27T18:08:30.410489Z"
    }
   },
   "id": "78bd8f02cd053a85"
  },
  {
   "cell_type": "code",
   "execution_count": 271,
   "outputs": [
    {
     "name": "stderr",
     "output_type": "stream",
     "text": [
      "/var/folders/_z/l9p6vnx965x6ccfll2y58x4r0000gn/T/ipykernel_39942/2059296379.py:1: SettingWithCopyWarning: \n",
      "A value is trying to be set on a copy of a slice from a DataFrame.\n",
      "Try using .loc[row_indexer,col_indexer] = value instead\n",
      "\n",
      "See the caveats in the documentation: https://pandas.pydata.org/pandas-docs/stable/user_guide/indexing.html#returning-a-view-versus-a-copy\n",
      "  data['nbdo']=data.bod.apply(lambda x:(100 if (3>=x>=0)\n"
     ]
    }
   ],
   "source": [
    "data['nbdo']=data.bod.apply(lambda x:(100 if (3>=x>=0)\n",
    "                                      else(80 if  (6>=x>=3)\n",
    "                                           else(60 if (80>=x>=6)\n",
    "                                                else(40 if (125>=x>=80)\n",
    "                                                     else 0)))))"
   ],
   "metadata": {
    "collapsed": false,
    "ExecuteTime": {
     "end_time": "2023-11-27T18:08:30.441488Z",
     "start_time": "2023-11-27T18:08:30.413200Z"
    }
   },
   "id": "e40110b96206e329"
  },
  {
   "cell_type": "code",
   "execution_count": 272,
   "outputs": [
    {
     "name": "stderr",
     "output_type": "stream",
     "text": [
      "/var/folders/_z/l9p6vnx965x6ccfll2y58x4r0000gn/T/ipykernel_39942/1291374672.py:1: SettingWithCopyWarning: \n",
      "A value is trying to be set on a copy of a slice from a DataFrame.\n",
      "Try using .loc[row_indexer,col_indexer] = value instead\n",
      "\n",
      "See the caveats in the documentation: https://pandas.pydata.org/pandas-docs/stable/user_guide/indexing.html#returning-a-view-versus-a-copy\n",
      "  data['nna']=data.na.apply(lambda x:(100 if (20>=x>=0)\n"
     ]
    }
   ],
   "source": [
    "data['nna']=data.na.apply(lambda x:(100 if (20>=x>=0)\n",
    "                                    else(80 if  (50>=x>=20)\n",
    "                                         else(60 if (100>=x>=50)\n",
    "                                              else(40 if (200>=x>=100)\n",
    "                                                   else 0)))))"
   ],
   "metadata": {
    "collapsed": false,
    "ExecuteTime": {
     "end_time": "2023-11-27T18:08:30.441536Z",
     "start_time": "2023-11-27T18:08:30.415622Z"
    }
   },
   "id": "ea07517f8cde15c1"
  },
  {
   "cell_type": "code",
   "execution_count": 273,
   "outputs": [
    {
     "name": "stderr",
     "output_type": "stream",
     "text": [
      "/var/folders/_z/l9p6vnx965x6ccfll2y58x4r0000gn/T/ipykernel_39942/1845903784.py:1: SettingWithCopyWarning: \n",
      "A value is trying to be set on a copy of a slice from a DataFrame.\n",
      "Try using .loc[row_indexer,col_indexer] = value instead\n",
      "\n",
      "See the caveats in the documentation: https://pandas.pydata.org/pandas-docs/stable/user_guide/indexing.html#returning-a-view-versus-a-copy\n",
      "  data['nco']=data.tc.apply(lambda x:(100 if (5>=x>=0)\n"
     ]
    }
   ],
   "source": [
    "data['nco']=data.tc.apply(lambda x:(100 if (5>=x>=0)\n",
    "                                    else(80 if  (50>=x>=5)\n",
    "                                         else(60 if (500>=x>=50)\n",
    "                                              else(40 if (10000>=x>=500)\n",
    "                                                   else 0)))))"
   ],
   "metadata": {
    "collapsed": false,
    "ExecuteTime": {
     "end_time": "2023-11-27T18:08:30.441612Z",
     "start_time": "2023-11-27T18:08:30.417171Z"
    }
   },
   "id": "4128e5261afbd80b"
  },
  {
   "cell_type": "code",
   "execution_count": 274,
   "outputs": [],
   "source": [
    "Si_values = {\n",
    "    'Dissolved Oxygen': 10,\n",
    "    'pH': 8.5,\n",
    "    'Conductivity': 1000,\n",
    "    'Biological Oxygen Demand': 5,\n",
    "    'Nitrate': 45,\n",
    "    'Total Coliform': 1000\n",
    "}\n",
    "\n",
    "wi_values = {\n",
    "    'Dissolved Oxygen': 0.2213,\n",
    "    'pH': 0.2604,\n",
    "    'Conductivity': 0.0022,\n",
    "    'Biological Oxygen Demand': 0.4426,\n",
    "    'Nitrate': 0.0492,\n",
    "    'Total Coliform': 0.0022\n",
    "}\n",
    "\n",
    "Videal_values = {\n",
    "    'Dissolved Oxygen': 14.6,\n",
    "    'pH': 7.0,\n",
    "    'Conductivity': 0,\n",
    "    'Biological Oxygen Demand': 0,\n",
    "    'Nitrate': 0,\n",
    "    'Total Coliform': 0\n",
    "}"
   ],
   "metadata": {
    "collapsed": false,
    "ExecuteTime": {
     "end_time": "2023-11-27T18:08:30.442442Z",
     "start_time": "2023-11-27T18:08:30.420894Z"
    }
   },
   "id": "ef93e631e9a1c87e"
  },
  {
   "cell_type": "code",
   "execution_count": 275,
   "outputs": [],
   "source": [
    "Vi_values = {\n",
    "    'Dissolved Oxygen': data['do'],\n",
    "    'pH': data['ph'],\n",
    "    'Conductivity': data['cond'],\n",
    "    'Biological Oxygen Demand': data['bod'],\n",
    "    'Nitrate': data['na'],\n",
    "    'Total Coliform': data['tc']\n",
    "}"
   ],
   "metadata": {
    "collapsed": false,
    "ExecuteTime": {
     "end_time": "2023-11-27T18:08:30.460296Z",
     "start_time": "2023-11-27T18:08:30.424406Z"
    }
   },
   "id": "e70ee7ef93547057"
  },
  {
   "cell_type": "code",
   "execution_count": 276,
   "outputs": [
    {
     "data": {
      "text/plain": "{'Dissolved Oxygen': 2       180.434783\n 3       191.304348\n 4       191.304348\n 5       197.826087\n 6       184.782609\n            ...    \n 1774    217.391304\n 1775    126.086957\n 1776    100.000000\n 1777    121.739130\n 1778    148.543478\n Name: do, Length: 1777, dtype: float64,\n 'pH': 2        -6.666667\n 3        -6.666667\n 4        20.000000\n 5        26.666667\n 6       -20.000000\n            ...    \n 1774   -266.666667\n 1775      0.000000\n 1776      6.666667\n 1777     20.000000\n 1778     36.200000\n Name: ph, Length: 1777, dtype: float64,\n 'Conductivity': 2       17.9\n 3        6.4\n 4        8.3\n 5        8.1\n 6       30.8\n         ... \n 1774    35.0\n 1775    17.2\n 1776    15.0\n 1777    15.8\n 1778     NaN\n Name: cond, Length: 1777, dtype: float64,\n 'Biological Oxygen Demand': 2        34.0\n 3        76.0\n 4        38.0\n 5        30.0\n 6        28.0\n         ...  \n 1774    124.0\n 1775     32.0\n 1776     20.0\n 1777     36.0\n 1778     10.0\n Name: bod, Length: 1777, dtype: float64,\n 'Nitrate': 2        0.222222\n 3        1.111111\n 4        0.888889\n 5        0.222222\n 6        0.666667\n           ...    \n 1774     4.888889\n 1775    11.111111\n 1776     8.888889\n 1777    16.000000\n 1778          NaN\n Name: na, Length: 1777, dtype: float64,\n 'Total Coliform': 2       533.0\n 3       844.3\n 4       550.0\n 5       404.9\n 6       567.2\n         ...  \n 1774      4.9\n 1775    280.0\n 1776     35.0\n 1777     28.0\n 1778      NaN\n Name: tc, Length: 1777, dtype: float64}"
     },
     "execution_count": 276,
     "metadata": {},
     "output_type": "execute_result"
    }
   ],
   "source": [
    "qi_values = {}\n",
    "for param, Vi in Vi_values.items():\n",
    "    qi_values[param] = 100 * (Vi - Videal_values[param]) / (Si_values[param] - Videal_values[param])\n",
    "\n",
    "qi_values"
   ],
   "metadata": {
    "collapsed": false,
    "ExecuteTime": {
     "end_time": "2023-11-27T18:08:30.472721Z",
     "start_time": "2023-11-27T18:08:30.428044Z"
    }
   },
   "id": "95f5e14672c516d8"
  },
  {
   "cell_type": "code",
   "execution_count": 277,
   "outputs": [],
   "source": [
    "# Calculate K (proportionality constant)\n",
    "K = 1 / sum(Si_values.values())\n",
    "\n",
    "# Calculate wi for each parameter\n",
    "wi_values_calculated = {param: K / Si_values[param] for param in Si_values}\n"
   ],
   "metadata": {
    "collapsed": false,
    "ExecuteTime": {
     "end_time": "2023-11-27T18:08:30.473615Z",
     "start_time": "2023-11-27T18:08:30.430948Z"
    }
   },
   "id": "e829a3884e0b8763"
  },
  {
   "cell_type": "code",
   "execution_count": 278,
   "outputs": [
    {
     "name": "stderr",
     "output_type": "stream",
     "text": [
      "/var/folders/_z/l9p6vnx965x6ccfll2y58x4r0000gn/T/ipykernel_39942/3572231752.py:1: SettingWithCopyWarning: \n",
      "A value is trying to be set on a copy of a slice from a DataFrame.\n",
      "Try using .loc[row_indexer,col_indexer] = value instead\n",
      "\n",
      "See the caveats in the documentation: https://pandas.pydata.org/pandas-docs/stable/user_guide/indexing.html#returning-a-view-versus-a-copy\n",
      "  data['wph']=data.npH * 0.165\n",
      "/var/folders/_z/l9p6vnx965x6ccfll2y58x4r0000gn/T/ipykernel_39942/3572231752.py:2: SettingWithCopyWarning: \n",
      "A value is trying to be set on a copy of a slice from a DataFrame.\n",
      "Try using .loc[row_indexer,col_indexer] = value instead\n",
      "\n",
      "See the caveats in the documentation: https://pandas.pydata.org/pandas-docs/stable/user_guide/indexing.html#returning-a-view-versus-a-copy\n",
      "  data['wdo']=data.ndo * 0.281\n",
      "/var/folders/_z/l9p6vnx965x6ccfll2y58x4r0000gn/T/ipykernel_39942/3572231752.py:3: SettingWithCopyWarning: \n",
      "A value is trying to be set on a copy of a slice from a DataFrame.\n",
      "Try using .loc[row_indexer,col_indexer] = value instead\n",
      "\n",
      "See the caveats in the documentation: https://pandas.pydata.org/pandas-docs/stable/user_guide/indexing.html#returning-a-view-versus-a-copy\n",
      "  data['wbdo']=data.nbdo * 0.234\n",
      "/var/folders/_z/l9p6vnx965x6ccfll2y58x4r0000gn/T/ipykernel_39942/3572231752.py:4: SettingWithCopyWarning: \n",
      "A value is trying to be set on a copy of a slice from a DataFrame.\n",
      "Try using .loc[row_indexer,col_indexer] = value instead\n",
      "\n",
      "See the caveats in the documentation: https://pandas.pydata.org/pandas-docs/stable/user_guide/indexing.html#returning-a-view-versus-a-copy\n",
      "  data['wcond']=data.ncond * 0.009\n",
      "/var/folders/_z/l9p6vnx965x6ccfll2y58x4r0000gn/T/ipykernel_39942/3572231752.py:5: SettingWithCopyWarning: \n",
      "A value is trying to be set on a copy of a slice from a DataFrame.\n",
      "Try using .loc[row_indexer,col_indexer] = value instead\n",
      "\n",
      "See the caveats in the documentation: https://pandas.pydata.org/pandas-docs/stable/user_guide/indexing.html#returning-a-view-versus-a-copy\n",
      "  data['wna']=data.nna * 0.028\n",
      "/var/folders/_z/l9p6vnx965x6ccfll2y58x4r0000gn/T/ipykernel_39942/3572231752.py:6: SettingWithCopyWarning: \n",
      "A value is trying to be set on a copy of a slice from a DataFrame.\n",
      "Try using .loc[row_indexer,col_indexer] = value instead\n",
      "\n",
      "See the caveats in the documentation: https://pandas.pydata.org/pandas-docs/stable/user_guide/indexing.html#returning-a-view-versus-a-copy\n",
      "  data['wco']=data.nco * 0.281\n",
      "/var/folders/_z/l9p6vnx965x6ccfll2y58x4r0000gn/T/ipykernel_39942/3572231752.py:7: SettingWithCopyWarning: \n",
      "A value is trying to be set on a copy of a slice from a DataFrame.\n",
      "Try using .loc[row_indexer,col_indexer] = value instead\n",
      "\n",
      "See the caveats in the documentation: https://pandas.pydata.org/pandas-docs/stable/user_guide/indexing.html#returning-a-view-versus-a-copy\n",
      "  data['wqi']=data.wph+data.wdo+data.wbdo+data.wcond+data.wna+data.wco\n"
     ]
    },
    {
     "data": {
      "text/plain": "     station                                           location state    temp  \\\n2       1475                                ZUARI AT PANCHAWADI   GOA  29.500   \n3       3181                        RIVER ZUARI AT BORIM BRIDGE   GOA  29.700   \n4       3182                       RIVER ZUARI AT MARCAIM JETTY   GOA  29.500   \n5       1400             MANDOVI AT NEGHBOURHOOD OF PANAJI, GOA   GOA  30.000   \n6       1476                     MANDOVI AT TONCA, MARCELA, GOA   GOA  29.200   \n...      ...                                                ...   ...     ...   \n1774    1428  KHARKHLA NEAR SUTNGA KHLIERIAT,JAINTIA HILLS D...   NAN  15.000   \n1775    1631                      MYNTDU RIVER JOWAI, MEGHALAYA   NAN  10.000   \n1776    1632                        GANOL RIVER TURA, MEGHALAYA   NAN  11.000   \n1777    1633              SIMSANG RIVER WILLIAMNAGAR, MEGHALAYA   NAN  12.000   \n1778    2050                             TLAWNG UPSTREAM AIZAWL   NAN  23.667   \n\n          do     ph   cond  bod   na      tc  ...  nbdo  nna  nco   wph  \\\n2      6.300  6.900  179.0  1.7  0.1  5330.0  ...   100  100   40  13.2   \n3      5.800  6.900   64.0  3.8  0.5  8443.0  ...    80  100   40  13.2   \n4      5.800  7.300   83.0  1.9  0.4  5500.0  ...   100  100   40  16.5   \n5      5.500  7.400   81.0  1.5  0.1  4049.0  ...   100  100   40  16.5   \n6      6.100  6.700  308.0  1.4  0.3  5672.0  ...   100  100   40   9.9   \n...      ...    ...    ...  ...  ...     ...  ...   ...  ...  ...   ...   \n1774   4.600  3.000  350.0  6.2  2.2    49.0  ...    60  100   80   0.0   \n1775   8.800  7.000  172.0  1.6  5.0  2800.0  ...   100  100   40  16.5   \n1776  10.000  7.100  150.0  1.0  4.0   350.0  ...   100  100   60  16.5   \n1777   9.000  7.300  158.0  1.8  7.2   280.0  ...   100  100   60  16.5   \n1778   7.767  7.543    NaN  0.5  NaN     NaN  ...   100    0    0  16.5   \n\n        wdo   wbdo  wcond  wna    wco    wqi  \n2     28.10  23.40   0.72  2.8  11.24  79.46  \n3     22.48  18.72   0.90  2.8  11.24  69.34  \n4     22.48  23.40   0.90  2.8  11.24  77.32  \n5     22.48  23.40   0.90  2.8  11.24  77.32  \n6     28.10  23.40   0.36  2.8  11.24  75.80  \n...     ...    ...    ...  ...    ...    ...  \n1774  16.86  14.04   0.36  2.8  22.48  56.54  \n1775  28.10  23.40   0.72  2.8  11.24  82.76  \n1776  28.10  23.40   0.72  2.8  16.86  88.38  \n1777  28.10  23.40   0.72  2.8  16.86  88.38  \n1778  28.10  23.40   0.00  0.0   0.00  68.00  \n\n[1777 rows x 24 columns]",
      "text/html": "<div>\n<style scoped>\n    .dataframe tbody tr th:only-of-type {\n        vertical-align: middle;\n    }\n\n    .dataframe tbody tr th {\n        vertical-align: top;\n    }\n\n    .dataframe thead th {\n        text-align: right;\n    }\n</style>\n<table border=\"1\" class=\"dataframe\">\n  <thead>\n    <tr style=\"text-align: right;\">\n      <th></th>\n      <th>station</th>\n      <th>location</th>\n      <th>state</th>\n      <th>temp</th>\n      <th>do</th>\n      <th>ph</th>\n      <th>cond</th>\n      <th>bod</th>\n      <th>na</th>\n      <th>tc</th>\n      <th>...</th>\n      <th>nbdo</th>\n      <th>nna</th>\n      <th>nco</th>\n      <th>wph</th>\n      <th>wdo</th>\n      <th>wbdo</th>\n      <th>wcond</th>\n      <th>wna</th>\n      <th>wco</th>\n      <th>wqi</th>\n    </tr>\n  </thead>\n  <tbody>\n    <tr>\n      <th>2</th>\n      <td>1475</td>\n      <td>ZUARI AT PANCHAWADI</td>\n      <td>GOA</td>\n      <td>29.500</td>\n      <td>6.300</td>\n      <td>6.900</td>\n      <td>179.0</td>\n      <td>1.7</td>\n      <td>0.1</td>\n      <td>5330.0</td>\n      <td>...</td>\n      <td>100</td>\n      <td>100</td>\n      <td>40</td>\n      <td>13.2</td>\n      <td>28.10</td>\n      <td>23.40</td>\n      <td>0.72</td>\n      <td>2.8</td>\n      <td>11.24</td>\n      <td>79.46</td>\n    </tr>\n    <tr>\n      <th>3</th>\n      <td>3181</td>\n      <td>RIVER ZUARI AT BORIM BRIDGE</td>\n      <td>GOA</td>\n      <td>29.700</td>\n      <td>5.800</td>\n      <td>6.900</td>\n      <td>64.0</td>\n      <td>3.8</td>\n      <td>0.5</td>\n      <td>8443.0</td>\n      <td>...</td>\n      <td>80</td>\n      <td>100</td>\n      <td>40</td>\n      <td>13.2</td>\n      <td>22.48</td>\n      <td>18.72</td>\n      <td>0.90</td>\n      <td>2.8</td>\n      <td>11.24</td>\n      <td>69.34</td>\n    </tr>\n    <tr>\n      <th>4</th>\n      <td>3182</td>\n      <td>RIVER ZUARI AT MARCAIM JETTY</td>\n      <td>GOA</td>\n      <td>29.500</td>\n      <td>5.800</td>\n      <td>7.300</td>\n      <td>83.0</td>\n      <td>1.9</td>\n      <td>0.4</td>\n      <td>5500.0</td>\n      <td>...</td>\n      <td>100</td>\n      <td>100</td>\n      <td>40</td>\n      <td>16.5</td>\n      <td>22.48</td>\n      <td>23.40</td>\n      <td>0.90</td>\n      <td>2.8</td>\n      <td>11.24</td>\n      <td>77.32</td>\n    </tr>\n    <tr>\n      <th>5</th>\n      <td>1400</td>\n      <td>MANDOVI AT NEGHBOURHOOD OF PANAJI, GOA</td>\n      <td>GOA</td>\n      <td>30.000</td>\n      <td>5.500</td>\n      <td>7.400</td>\n      <td>81.0</td>\n      <td>1.5</td>\n      <td>0.1</td>\n      <td>4049.0</td>\n      <td>...</td>\n      <td>100</td>\n      <td>100</td>\n      <td>40</td>\n      <td>16.5</td>\n      <td>22.48</td>\n      <td>23.40</td>\n      <td>0.90</td>\n      <td>2.8</td>\n      <td>11.24</td>\n      <td>77.32</td>\n    </tr>\n    <tr>\n      <th>6</th>\n      <td>1476</td>\n      <td>MANDOVI AT TONCA, MARCELA, GOA</td>\n      <td>GOA</td>\n      <td>29.200</td>\n      <td>6.100</td>\n      <td>6.700</td>\n      <td>308.0</td>\n      <td>1.4</td>\n      <td>0.3</td>\n      <td>5672.0</td>\n      <td>...</td>\n      <td>100</td>\n      <td>100</td>\n      <td>40</td>\n      <td>9.9</td>\n      <td>28.10</td>\n      <td>23.40</td>\n      <td>0.36</td>\n      <td>2.8</td>\n      <td>11.24</td>\n      <td>75.80</td>\n    </tr>\n    <tr>\n      <th>...</th>\n      <td>...</td>\n      <td>...</td>\n      <td>...</td>\n      <td>...</td>\n      <td>...</td>\n      <td>...</td>\n      <td>...</td>\n      <td>...</td>\n      <td>...</td>\n      <td>...</td>\n      <td>...</td>\n      <td>...</td>\n      <td>...</td>\n      <td>...</td>\n      <td>...</td>\n      <td>...</td>\n      <td>...</td>\n      <td>...</td>\n      <td>...</td>\n      <td>...</td>\n      <td>...</td>\n    </tr>\n    <tr>\n      <th>1774</th>\n      <td>1428</td>\n      <td>KHARKHLA NEAR SUTNGA KHLIERIAT,JAINTIA HILLS D...</td>\n      <td>NAN</td>\n      <td>15.000</td>\n      <td>4.600</td>\n      <td>3.000</td>\n      <td>350.0</td>\n      <td>6.2</td>\n      <td>2.2</td>\n      <td>49.0</td>\n      <td>...</td>\n      <td>60</td>\n      <td>100</td>\n      <td>80</td>\n      <td>0.0</td>\n      <td>16.86</td>\n      <td>14.04</td>\n      <td>0.36</td>\n      <td>2.8</td>\n      <td>22.48</td>\n      <td>56.54</td>\n    </tr>\n    <tr>\n      <th>1775</th>\n      <td>1631</td>\n      <td>MYNTDU RIVER JOWAI, MEGHALAYA</td>\n      <td>NAN</td>\n      <td>10.000</td>\n      <td>8.800</td>\n      <td>7.000</td>\n      <td>172.0</td>\n      <td>1.6</td>\n      <td>5.0</td>\n      <td>2800.0</td>\n      <td>...</td>\n      <td>100</td>\n      <td>100</td>\n      <td>40</td>\n      <td>16.5</td>\n      <td>28.10</td>\n      <td>23.40</td>\n      <td>0.72</td>\n      <td>2.8</td>\n      <td>11.24</td>\n      <td>82.76</td>\n    </tr>\n    <tr>\n      <th>1776</th>\n      <td>1632</td>\n      <td>GANOL RIVER TURA, MEGHALAYA</td>\n      <td>NAN</td>\n      <td>11.000</td>\n      <td>10.000</td>\n      <td>7.100</td>\n      <td>150.0</td>\n      <td>1.0</td>\n      <td>4.0</td>\n      <td>350.0</td>\n      <td>...</td>\n      <td>100</td>\n      <td>100</td>\n      <td>60</td>\n      <td>16.5</td>\n      <td>28.10</td>\n      <td>23.40</td>\n      <td>0.72</td>\n      <td>2.8</td>\n      <td>16.86</td>\n      <td>88.38</td>\n    </tr>\n    <tr>\n      <th>1777</th>\n      <td>1633</td>\n      <td>SIMSANG RIVER WILLIAMNAGAR, MEGHALAYA</td>\n      <td>NAN</td>\n      <td>12.000</td>\n      <td>9.000</td>\n      <td>7.300</td>\n      <td>158.0</td>\n      <td>1.8</td>\n      <td>7.2</td>\n      <td>280.0</td>\n      <td>...</td>\n      <td>100</td>\n      <td>100</td>\n      <td>60</td>\n      <td>16.5</td>\n      <td>28.10</td>\n      <td>23.40</td>\n      <td>0.72</td>\n      <td>2.8</td>\n      <td>16.86</td>\n      <td>88.38</td>\n    </tr>\n    <tr>\n      <th>1778</th>\n      <td>2050</td>\n      <td>TLAWNG UPSTREAM AIZAWL</td>\n      <td>NAN</td>\n      <td>23.667</td>\n      <td>7.767</td>\n      <td>7.543</td>\n      <td>NaN</td>\n      <td>0.5</td>\n      <td>NaN</td>\n      <td>NaN</td>\n      <td>...</td>\n      <td>100</td>\n      <td>0</td>\n      <td>0</td>\n      <td>16.5</td>\n      <td>28.10</td>\n      <td>23.40</td>\n      <td>0.00</td>\n      <td>0.0</td>\n      <td>0.00</td>\n      <td>68.00</td>\n    </tr>\n  </tbody>\n</table>\n<p>1777 rows × 24 columns</p>\n</div>"
     },
     "execution_count": 278,
     "metadata": {},
     "output_type": "execute_result"
    }
   ],
   "source": [
    "data['wph']=data.npH * 0.165\n",
    "data['wdo']=data.ndo * 0.281\n",
    "data['wbdo']=data.nbdo * 0.234\n",
    "data['wcond']=data.ncond * 0.009\n",
    "data['wna']=data.nna * 0.028\n",
    "data['wco']=data.nco * 0.281\n",
    "data['wqi']=data.wph+data.wdo+data.wbdo+data.wcond+data.wna+data.wco\n",
    "data"
   ],
   "metadata": {
    "collapsed": false,
    "ExecuteTime": {
     "end_time": "2023-11-27T18:08:30.492086Z",
     "start_time": "2023-11-27T18:08:30.433707Z"
    }
   },
   "id": "26e2157c19458334"
  },
  {
   "cell_type": "code",
   "execution_count": 279,
   "outputs": [
    {
     "data": {
      "text/plain": "year\n2006    71.717059\n2007    72.597000\n2008    72.725660\n2009    74.218895\n2010    74.743723\n2011    75.820693\n2012    79.078425\n2013    75.167433\n2014    77.049136\nName: wqi, dtype: float64"
     },
     "execution_count": 279,
     "metadata": {},
     "output_type": "execute_result"
    }
   ],
   "source": [
    "#calculation overall wqi for each year\n",
    "gy=data.groupby('year')['wqi'].mean()\n",
    "gy"
   ],
   "metadata": {
    "collapsed": false,
    "ExecuteTime": {
     "end_time": "2023-11-27T18:08:30.500220Z",
     "start_time": "2023-11-27T18:08:30.446285Z"
    }
   },
   "id": "490cc9dbd91314cb"
  },
  {
   "cell_type": "code",
   "execution_count": 280,
   "outputs": [
    {
     "data": {
      "text/plain": "   year        wqi\n0  2006  71.717059\n1  2007  72.597000\n2  2008  72.725660\n3  2009  74.218895\n4  2010  74.743723\n5  2011  75.820693\n6  2012  79.078425\n7  2013  75.167433\n8  2014  77.049136",
      "text/html": "<div>\n<style scoped>\n    .dataframe tbody tr th:only-of-type {\n        vertical-align: middle;\n    }\n\n    .dataframe tbody tr th {\n        vertical-align: top;\n    }\n\n    .dataframe thead th {\n        text-align: right;\n    }\n</style>\n<table border=\"1\" class=\"dataframe\">\n  <thead>\n    <tr style=\"text-align: right;\">\n      <th></th>\n      <th>year</th>\n      <th>wqi</th>\n    </tr>\n  </thead>\n  <tbody>\n    <tr>\n      <th>0</th>\n      <td>2006</td>\n      <td>71.717059</td>\n    </tr>\n    <tr>\n      <th>1</th>\n      <td>2007</td>\n      <td>72.597000</td>\n    </tr>\n    <tr>\n      <th>2</th>\n      <td>2008</td>\n      <td>72.725660</td>\n    </tr>\n    <tr>\n      <th>3</th>\n      <td>2009</td>\n      <td>74.218895</td>\n    </tr>\n    <tr>\n      <th>4</th>\n      <td>2010</td>\n      <td>74.743723</td>\n    </tr>\n    <tr>\n      <th>5</th>\n      <td>2011</td>\n      <td>75.820693</td>\n    </tr>\n    <tr>\n      <th>6</th>\n      <td>2012</td>\n      <td>79.078425</td>\n    </tr>\n    <tr>\n      <th>7</th>\n      <td>2013</td>\n      <td>75.167433</td>\n    </tr>\n    <tr>\n      <th>8</th>\n      <td>2014</td>\n      <td>77.049136</td>\n    </tr>\n  </tbody>\n</table>\n</div>"
     },
     "execution_count": 280,
     "metadata": {},
     "output_type": "execute_result"
    }
   ],
   "source": [
    "data=gy.reset_index(level=0,inplace=False)\n",
    "data"
   ],
   "metadata": {
    "collapsed": false,
    "ExecuteTime": {
     "end_time": "2023-11-27T18:08:30.500471Z",
     "start_time": "2023-11-27T18:08:30.452137Z"
    }
   },
   "id": "623b1f3fe93e9fd0"
  },
  {
   "cell_type": "code",
   "execution_count": 281,
   "outputs": [
    {
     "data": {
      "text/plain": "   year        wqi\n0  2006  71.717059\n1  2007  72.597000\n2  2008  72.725660\n3  2009  74.218895\n4  2010  74.743723",
      "text/html": "<div>\n<style scoped>\n    .dataframe tbody tr th:only-of-type {\n        vertical-align: middle;\n    }\n\n    .dataframe tbody tr th {\n        vertical-align: top;\n    }\n\n    .dataframe thead th {\n        text-align: right;\n    }\n</style>\n<table border=\"1\" class=\"dataframe\">\n  <thead>\n    <tr style=\"text-align: right;\">\n      <th></th>\n      <th>year</th>\n      <th>wqi</th>\n    </tr>\n  </thead>\n  <tbody>\n    <tr>\n      <th>0</th>\n      <td>2006</td>\n      <td>71.717059</td>\n    </tr>\n    <tr>\n      <th>1</th>\n      <td>2007</td>\n      <td>72.597000</td>\n    </tr>\n    <tr>\n      <th>2</th>\n      <td>2008</td>\n      <td>72.725660</td>\n    </tr>\n    <tr>\n      <th>3</th>\n      <td>2009</td>\n      <td>74.218895</td>\n    </tr>\n    <tr>\n      <th>4</th>\n      <td>2010</td>\n      <td>74.743723</td>\n    </tr>\n  </tbody>\n</table>\n</div>"
     },
     "execution_count": 281,
     "metadata": {},
     "output_type": "execute_result"
    }
   ],
   "source": [
    "data = data[np.isfinite(data['wqi'])]\n",
    "data.head()"
   ],
   "metadata": {
    "collapsed": false,
    "ExecuteTime": {
     "end_time": "2023-11-27T18:08:30.500623Z",
     "start_time": "2023-11-27T18:08:30.455891Z"
    }
   },
   "id": "6ca0f57f0e065adb"
  },
  {
   "cell_type": "code",
   "execution_count": 282,
   "outputs": [
    {
     "data": {
      "text/plain": "<Figure size 1500x600 with 1 Axes>",
      "image/png": "[encoded data removed]"
     },
     "metadata": {},
     "output_type": "display_data"
    }
   ],
   "source": [
    "data=data.set_index('year')\n",
    "data.plot(figsize=(15,6))\n",
    "plt.show()"
   ],
   "metadata": {
    "collapsed": false,
    "ExecuteTime": {
     "end_time": "2023-11-27T18:08:30.607444Z",
     "start_time": "2023-11-27T18:08:30.461738Z"
    }
   },
   "id": "afc510011e05bc91"
  },
  {
   "cell_type": "code",
   "execution_count": 283,
   "outputs": [],
   "source": [
    "data=data.reset_index(level=0,inplace=False)"
   ],
   "metadata": {
    "collapsed": false,
    "ExecuteTime": {
     "end_time": "2023-11-27T18:08:30.607672Z",
     "start_time": "2023-11-27T18:08:30.542114Z"
    }
   },
   "id": "2f6139d51610f849"
  },
  {
   "cell_type": "code",
   "execution_count": 284,
   "outputs": [],
   "source": [
    "cols =['year']\n",
    "y = data['wqi']\n",
    "x=data[cols]\n",
    "reg=linear_model.LinearRegression()\n",
    "x_train,x_test,y_train,y_test=train_test_split(x,y,test_size=0.2,random_state=4)"
   ],
   "metadata": {
    "collapsed": false,
    "ExecuteTime": {
     "end_time": "2023-11-27T18:08:30.607860Z",
     "start_time": "2023-11-27T18:08:30.547263Z"
    }
   },
   "id": "351c887f9eaac2f6"
  },
  {
   "cell_type": "code",
   "execution_count": 285,
   "outputs": [],
   "source": [
    "reg.fit(x_train,y_train)\n",
    "a=reg.predict(x_test)"
   ],
   "metadata": {
    "collapsed": false,
    "ExecuteTime": {
     "end_time": "2023-11-27T18:08:30.634972Z",
     "start_time": "2023-11-27T18:08:30.558655Z"
    }
   },
   "id": "3443a2149dcaf4ba"
  },
  {
   "cell_type": "code",
   "execution_count": 286,
   "outputs": [
    {
     "data": {
      "text/plain": "3    74.218895\n4    74.743723\nName: wqi, dtype: float64"
     },
     "execution_count": 286,
     "metadata": {},
     "output_type": "execute_result"
    }
   ],
   "source": [
    "y_test"
   ],
   "metadata": {
    "collapsed": false,
    "ExecuteTime": {
     "end_time": "2023-11-27T18:08:30.647820Z",
     "start_time": "2023-11-27T18:08:30.563164Z"
    }
   },
   "id": "4f097862fab920c2"
  },
  {
   "cell_type": "code",
   "execution_count": 287,
   "outputs": [
    {
     "name": "stdout",
     "output_type": "stream",
     "text": [
      "mse:0.01\n"
     ]
    }
   ],
   "source": [
    "print('mse:%.2f'%mean_squared_error(y_test,a))"
   ],
   "metadata": {
    "collapsed": false,
    "ExecuteTime": {
     "end_time": "2023-11-27T18:08:30.647974Z",
     "start_time": "2023-11-27T18:08:30.568413Z"
    }
   },
   "id": "9be9ee88a7fadd2"
  },
  {
   "cell_type": "code",
   "execution_count": 288,
   "outputs": [],
   "source": [
    "dt = pd.DataFrame({'Actual': y_test, 'Predicted': a})\n",
    "x = (x - x.mean()) / x.std()\n",
    "x = np.c_[np.ones(x.shape[0]), x]"
   ],
   "metadata": {
    "collapsed": false,
    "ExecuteTime": {
     "end_time": "2023-11-27T18:08:30.648030Z",
     "start_time": "2023-11-27T18:08:30.577259Z"
    }
   },
   "id": "87614b06ffddcede"
  },
  {
   "cell_type": "code",
   "execution_count": 294,
   "outputs": [
    {
     "name": "stdout",
     "output_type": "stream",
     "text": [
      "Gradient Descent: 74.79, 1.98\n"
     ]
    }
   ],
   "source": [
    "alpha = 0.1\n",
    "iters = 3000\n",
    "ys = y.size\n",
    "np.random.seed(4)\n",
    "tht = np.random.rand(2)\n",
    "\n",
    "def gradient_descent(x, y, tht, iters, alpha):\n",
    "    past_costs = []\n",
    "    past_thts = [tht]\n",
    "    for i in range(iters):\n",
    "        prediction = np.dot(x, tht)\n",
    "        error = prediction - y\n",
    "        cost = 1/(2*ys) * np.dot(error.T, error)\n",
    "        past_costs.append(cost)\n",
    "        tht = tht - (alpha * (1/ys) * np.dot(x.T, error))\n",
    "        past_thts.append(tht)\n",
    "\n",
    "    return past_thts, past_costs\n",
    "\n",
    "past_tht, past_costs = gradient_descent(x, y, tht, iters, alpha)\n",
    "tht = past_tht[-1]\n",
    "def accu(rmse):\n",
    "    acc = 100-rmse\n",
    "    return acc\n",
    "print(\"Gradient Descent: {:.2f}, {:.2f}\".format(tht[0], tht[1]))"
   ],
   "metadata": {
    "collapsed": false,
    "ExecuteTime": {
     "end_time": "2023-11-27T18:13:49.987103Z",
     "start_time": "2023-11-27T18:13:49.885417Z"
    }
   },
   "id": "97aa632c22fd6fa8"
  },
  {
   "cell_type": "code",
   "execution_count": 295,
   "outputs": [
    {
     "data": {
      "text/plain": "<Figure size 640x480 with 1 Axes>",
      "image/png": "[encoded data removed]"
     },
     "metadata": {},
     "output_type": "display_data"
    }
   ],
   "source": [
    "plt.title('Cost Function J')\n",
    "plt.xlabel('No. of iterations')\n",
    "plt.ylabel('Cost')\n",
    "plt.plot(past_costs)\n",
    "plt.show()"
   ],
   "metadata": {
    "collapsed": false,
    "ExecuteTime": {
     "end_time": "2023-11-27T18:13:51.252950Z",
     "start_time": "2023-11-27T18:13:51.189446Z"
    }
   },
   "id": "2b557620ab517623"
  },
  {
   "cell_type": "code",
   "execution_count": 296,
   "outputs": [
    {
     "name": "stdout",
     "output_type": "stream",
     "text": [
      "Root Mean Squared Error (RMSE): 1.1654817852265404\n",
      "Accuracy:  98.83451821477345\n"
     ]
    }
   ],
   "source": [
    "y_pred=x.dot(tht)\n",
    "\n",
    "rmse_value = np.sqrt(np.mean((y - y_pred) ** 2))\n",
    "print(\"Root Mean Squared Error (RMSE):\", rmse_value)\n",
    "print(\"Accuracy: \", accu(rmse_value))"
   ],
   "metadata": {
    "collapsed": false,
    "ExecuteTime": {
     "end_time": "2023-11-27T18:13:52.479942Z",
     "start_time": "2023-11-27T18:13:52.475278Z"
    }
   },
   "id": "b8e603dad5884a46"
  },
  {
   "cell_type": "code",
   "execution_count": 297,
   "outputs": [
    {
     "name": "stdout",
     "output_type": "stream",
     "text": [
      "1.1654817852265404\n"
     ]
    }
   ],
   "source": [
    "print(np.sqrt(metrics.mean_squared_error(y,y_pred)))"
   ],
   "metadata": {
    "collapsed": false,
    "ExecuteTime": {
     "end_time": "2023-11-27T18:13:53.255652Z",
     "start_time": "2023-11-27T18:13:53.249680Z"
    }
   },
   "id": "3564d3c891d7a0be"
  },
  {
   "cell_type": "code",
   "execution_count": 298,
   "outputs": [
    {
     "ename": "AttributeError",
     "evalue": "'DataFrame' object has no attribute 'year'",
     "output_type": "error",
     "traceback": [
      "\u001B[0;31m---------------------------------------------------------------------------\u001B[0m",
      "\u001B[0;31mAttributeError\u001B[0m                            Traceback (most recent call last)",
      "\u001B[0;32m/var/folders/_z/l9p6vnx965x6ccfll2y58x4r0000gn/T/ipykernel_39942/1901917957.py\u001B[0m in \u001B[0;36m?\u001B[0;34m()\u001B[0m\n\u001B[0;32m----> 1\u001B[0;31m \u001B[0mx_axis\u001B[0m\u001B[0;34m=\u001B[0m\u001B[0mdt\u001B[0m\u001B[0;34m.\u001B[0m\u001B[0myear\u001B[0m\u001B[0;34m\u001B[0m\u001B[0;34m\u001B[0m\u001B[0m\n\u001B[0m\u001B[1;32m      2\u001B[0m \u001B[0my_axis\u001B[0m\u001B[0;34m=\u001B[0m\u001B[0mdt\u001B[0m\u001B[0;34m.\u001B[0m\u001B[0mActual\u001B[0m\u001B[0;34m\u001B[0m\u001B[0;34m\u001B[0m\u001B[0m\n\u001B[1;32m      3\u001B[0m \u001B[0my1_axis\u001B[0m\u001B[0;34m=\u001B[0m\u001B[0mdt\u001B[0m\u001B[0;34m.\u001B[0m\u001B[0mPredicted\u001B[0m\u001B[0;34m\u001B[0m\u001B[0;34m\u001B[0m\u001B[0m\n\u001B[1;32m      4\u001B[0m \u001B[0mplt\u001B[0m\u001B[0;34m.\u001B[0m\u001B[0mscatter\u001B[0m\u001B[0;34m(\u001B[0m\u001B[0mx_axis\u001B[0m\u001B[0;34m,\u001B[0m\u001B[0my_axis\u001B[0m\u001B[0;34m)\u001B[0m\u001B[0;34m\u001B[0m\u001B[0;34m\u001B[0m\u001B[0m\n",
      "\u001B[0;32m~/anaconda3/lib/python3.11/site-packages/pandas/core/generic.py\u001B[0m in \u001B[0;36m?\u001B[0;34m(self, name)\u001B[0m\n\u001B[1;32m   5985\u001B[0m             \u001B[0;32mand\u001B[0m \u001B[0mname\u001B[0m \u001B[0;32mnot\u001B[0m \u001B[0;32min\u001B[0m \u001B[0mself\u001B[0m\u001B[0;34m.\u001B[0m\u001B[0m_accessors\u001B[0m\u001B[0;34m\u001B[0m\u001B[0;34m\u001B[0m\u001B[0m\n\u001B[1;32m   5986\u001B[0m             \u001B[0;32mand\u001B[0m \u001B[0mself\u001B[0m\u001B[0;34m.\u001B[0m\u001B[0m_info_axis\u001B[0m\u001B[0;34m.\u001B[0m\u001B[0m_can_hold_identifiers_and_holds_name\u001B[0m\u001B[0;34m(\u001B[0m\u001B[0mname\u001B[0m\u001B[0;34m)\u001B[0m\u001B[0;34m\u001B[0m\u001B[0;34m\u001B[0m\u001B[0m\n\u001B[1;32m   5987\u001B[0m         ):\n\u001B[1;32m   5988\u001B[0m             \u001B[0;32mreturn\u001B[0m \u001B[0mself\u001B[0m\u001B[0;34m[\u001B[0m\u001B[0mname\u001B[0m\u001B[0;34m]\u001B[0m\u001B[0;34m\u001B[0m\u001B[0;34m\u001B[0m\u001B[0m\n\u001B[0;32m-> 5989\u001B[0;31m         \u001B[0;32mreturn\u001B[0m \u001B[0mobject\u001B[0m\u001B[0;34m.\u001B[0m\u001B[0m__getattribute__\u001B[0m\u001B[0;34m(\u001B[0m\u001B[0mself\u001B[0m\u001B[0;34m,\u001B[0m \u001B[0mname\u001B[0m\u001B[0;34m)\u001B[0m\u001B[0;34m\u001B[0m\u001B[0;34m\u001B[0m\u001B[0m\n\u001B[0m",
      "\u001B[0;31mAttributeError\u001B[0m: 'DataFrame' object has no attribute 'year'"
     ]
    }
   ],
   "source": [
    "x_axis=dt.year\n",
    "y_axis=dt.Actual\n",
    "y1_axis=dt.Predicted\n",
    "plt.scatter(x_axis,y_axis)\n",
    "plt.plot(x_axis,y1_axis,color='r')\n",
    "plt.title(\"linear regression\")\n",
    "\n",
    "plt.show()"
   ],
   "metadata": {
    "collapsed": false,
    "ExecuteTime": {
     "end_time": "2023-11-27T18:13:53.791045Z",
     "start_time": "2023-11-27T18:13:53.780809Z"
    }
   },
   "id": "f43e4361cb788517"
  },
  {
   "cell_type": "code",
   "execution_count": null,
   "outputs": [],
   "source": [],
   "metadata": {
    "collapsed": false,
    "ExecuteTime": {
     "end_time": "2023-11-27T18:08:30.794410Z",
     "start_time": "2023-11-27T18:08:30.786407Z"
    }
   },
   "id": "373fe084285d8678"
  }
 ],
 "metadata": {
  "kernelspec": {
   "display_name": "Python 3",
   "language": "python",
   "name": "python3"
  },
  "language_info": {
   "codemirror_mode": {
    "name": "ipython",
    "version": 2
   },
   "file_extension": ".py",
   "mimetype": "text/x-python",
   "name": "python",
   "nbconvert_exporter": "python",
   "pygments_lexer": "ipython2",
   "version": "2.7.6"
  }
 },
 "nbformat": 4,
 "nbformat_minor": 5
}
